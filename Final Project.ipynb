{
 "cells": [
  {
   "cell_type": "markdown",
   "metadata": {},
   "source": [
    "# Some stay, but some never do..."
   ]
  },
  {
   "cell_type": "markdown",
   "metadata": {},
   "source": [
    "Every year, companies spend billions of funding on employees - whether for training and development, benefits, or bonuses. However, some employees are more \"proned to\" leaving than others. The goal is to build a model that can predict whether an employee will stay or not, based on HR data obtained on Kaggle."
   ]
  },
  {
   "cell_type": "markdown",
   "metadata": {},
   "source": [
    "![ByeUrl](https://media.giphy.com/media/6v4VaKAwgmLoA/giphy.gif \"bye\")"
   ]
  },
  {
   "cell_type": "markdown",
   "metadata": {},
   "source": [
    "##### The explanatory variable will include Sex, Age, Pay Rate, Marital Status, Race, and Performance Score."
   ]
  },
  {
   "cell_type": "markdown",
   "metadata": {},
   "source": [
    "## 1. Load Data"
   ]
  },
  {
   "cell_type": "code",
   "execution_count": 421,
   "metadata": {
    "collapsed": true
   },
   "outputs": [],
   "source": [
    "import pandas as pd\n",
    "import numpy as np\n",
    "import matplotlib.pyplot as plt\n",
    "import seaborn as sns\n",
    "\n",
    "%matplotlib inline"
   ]
  },
  {
   "cell_type": "code",
   "execution_count": 418,
   "metadata": {},
   "outputs": [],
   "source": [
    "data = pd.read_csv('core_dataset.csv')"
   ]
  },
  {
   "cell_type": "code",
   "execution_count": 419,
   "metadata": {},
   "outputs": [
    {
     "name": "stdout",
     "output_type": "stream",
     "text": [
      "<class 'pandas.core.frame.DataFrame'>\n",
      "RangeIndex: 302 entries, 0 to 301\n",
      "Data columns (total 21 columns):\n",
      "Employee Name          301 non-null object\n",
      "Employee Number        301 non-null float64\n",
      "State                  301 non-null object\n",
      "Zip                    301 non-null float64\n",
      "DOB                    301 non-null object\n",
      "Age                    301 non-null float64\n",
      "Sex                    301 non-null object\n",
      "MaritalDesc            301 non-null object\n",
      "CitizenDesc            301 non-null object\n",
      "Hispanic/Latino        301 non-null object\n",
      "RaceDesc               301 non-null object\n",
      "Date of Hire           301 non-null object\n",
      "Date of Termination    103 non-null object\n",
      "Reason For Term        301 non-null object\n",
      "Employment Status      301 non-null object\n",
      "Department             301 non-null object\n",
      "Position               301 non-null object\n",
      "Pay Rate               301 non-null float64\n",
      "Manager Name           301 non-null object\n",
      "Employee Source        301 non-null object\n",
      "Performance Score      301 non-null object\n",
      "dtypes: float64(4), object(17)\n",
      "memory usage: 49.6+ KB\n"
     ]
    }
   ],
   "source": [
    "data.info()"
   ]
  },
  {
   "cell_type": "markdown",
   "metadata": {},
   "source": [
    "#### Now take a sample of 5 datapoints to get an quick overview of data set."
   ]
  },
  {
   "cell_type": "code",
   "execution_count": 420,
   "metadata": {},
   "outputs": [
    {
     "data": {
      "text/html": [
       "<div>\n",
       "<style>\n",
       "    .dataframe thead tr:only-child th {\n",
       "        text-align: right;\n",
       "    }\n",
       "\n",
       "    .dataframe thead th {\n",
       "        text-align: left;\n",
       "    }\n",
       "\n",
       "    .dataframe tbody tr th {\n",
       "        vertical-align: top;\n",
       "    }\n",
       "</style>\n",
       "<table border=\"1\" class=\"dataframe\">\n",
       "  <thead>\n",
       "    <tr style=\"text-align: right;\">\n",
       "      <th></th>\n",
       "      <th>Employee Name</th>\n",
       "      <th>Employee Number</th>\n",
       "      <th>State</th>\n",
       "      <th>Zip</th>\n",
       "      <th>DOB</th>\n",
       "      <th>Age</th>\n",
       "      <th>Sex</th>\n",
       "      <th>MaritalDesc</th>\n",
       "      <th>CitizenDesc</th>\n",
       "      <th>Hispanic/Latino</th>\n",
       "      <th>...</th>\n",
       "      <th>Date of Hire</th>\n",
       "      <th>Date of Termination</th>\n",
       "      <th>Reason For Term</th>\n",
       "      <th>Employment Status</th>\n",
       "      <th>Department</th>\n",
       "      <th>Position</th>\n",
       "      <th>Pay Rate</th>\n",
       "      <th>Manager Name</th>\n",
       "      <th>Employee Source</th>\n",
       "      <th>Performance Score</th>\n",
       "    </tr>\n",
       "  </thead>\n",
       "  <tbody>\n",
       "    <tr>\n",
       "      <th>4</th>\n",
       "      <td>Singh, Nan</td>\n",
       "      <td>1.307060e+09</td>\n",
       "      <td>MA</td>\n",
       "      <td>2330.0</td>\n",
       "      <td>5/19/1988</td>\n",
       "      <td>29.0</td>\n",
       "      <td>Female</td>\n",
       "      <td>Single</td>\n",
       "      <td>US Citizen</td>\n",
       "      <td>No</td>\n",
       "      <td>...</td>\n",
       "      <td>5/1/2015</td>\n",
       "      <td>NaN</td>\n",
       "      <td>N/A - still employed</td>\n",
       "      <td>Active</td>\n",
       "      <td>Admin Offices</td>\n",
       "      <td>Administrative Assistant</td>\n",
       "      <td>16.56</td>\n",
       "      <td>Brandon R. LeBlanc</td>\n",
       "      <td>Website Banner Ads</td>\n",
       "      <td>N/A- too early to review</td>\n",
       "    </tr>\n",
       "    <tr>\n",
       "      <th>84</th>\n",
       "      <td>Carey, Michael</td>\n",
       "      <td>1.311063e+09</td>\n",
       "      <td>MA</td>\n",
       "      <td>1701.0</td>\n",
       "      <td>2/2/1983</td>\n",
       "      <td>34.0</td>\n",
       "      <td>Male</td>\n",
       "      <td>widowed</td>\n",
       "      <td>US Citizen</td>\n",
       "      <td>No</td>\n",
       "      <td>...</td>\n",
       "      <td>3/31/2014</td>\n",
       "      <td>NaN</td>\n",
       "      <td>N/A - still employed</td>\n",
       "      <td>Active</td>\n",
       "      <td>Production</td>\n",
       "      <td>Production Technician I</td>\n",
       "      <td>20.00</td>\n",
       "      <td>Kelley Spirea</td>\n",
       "      <td>MBTA ads</td>\n",
       "      <td>Fully Meets</td>\n",
       "    </tr>\n",
       "    <tr>\n",
       "      <th>132</th>\n",
       "      <td>Jung, Judy</td>\n",
       "      <td>1.107027e+09</td>\n",
       "      <td>MA</td>\n",
       "      <td>2446.0</td>\n",
       "      <td>4/17/1986</td>\n",
       "      <td>31.0</td>\n",
       "      <td>Female</td>\n",
       "      <td>Married</td>\n",
       "      <td>US Citizen</td>\n",
       "      <td>No</td>\n",
       "      <td>...</td>\n",
       "      <td>1/10/2011</td>\n",
       "      <td>4/1/2016</td>\n",
       "      <td>unhappy</td>\n",
       "      <td>Voluntarily Terminated</td>\n",
       "      <td>Production</td>\n",
       "      <td>Production Technician I</td>\n",
       "      <td>21.00</td>\n",
       "      <td>Elijiah Gray</td>\n",
       "      <td>Monster.com</td>\n",
       "      <td>90-day meets</td>\n",
       "    </tr>\n",
       "    <tr>\n",
       "      <th>157</th>\n",
       "      <td>O'hare, Lynn</td>\n",
       "      <td>1.206045e+09</td>\n",
       "      <td>MA</td>\n",
       "      <td>2152.0</td>\n",
       "      <td>9/30/1980</td>\n",
       "      <td>37.0</td>\n",
       "      <td>Female</td>\n",
       "      <td>widowed</td>\n",
       "      <td>US Citizen</td>\n",
       "      <td>No</td>\n",
       "      <td>...</td>\n",
       "      <td>3/31/2014</td>\n",
       "      <td>5/1/2016</td>\n",
       "      <td>performance</td>\n",
       "      <td>Terminated for Cause</td>\n",
       "      <td>Production</td>\n",
       "      <td>Production Technician I</td>\n",
       "      <td>18.50</td>\n",
       "      <td>Kissy Sullivan</td>\n",
       "      <td>Professional Society</td>\n",
       "      <td>PIP</td>\n",
       "    </tr>\n",
       "    <tr>\n",
       "      <th>118</th>\n",
       "      <td>Gonzalez, Cayo</td>\n",
       "      <td>1.411071e+09</td>\n",
       "      <td>MA</td>\n",
       "      <td>2108.0</td>\n",
       "      <td>9/29/1969</td>\n",
       "      <td>48.0</td>\n",
       "      <td>Male</td>\n",
       "      <td>Divorced</td>\n",
       "      <td>US Citizen</td>\n",
       "      <td>No</td>\n",
       "      <td>...</td>\n",
       "      <td>7/11/2011</td>\n",
       "      <td>NaN</td>\n",
       "      <td>N/A - still employed</td>\n",
       "      <td>Active</td>\n",
       "      <td>Production</td>\n",
       "      <td>Production Technician I</td>\n",
       "      <td>16.00</td>\n",
       "      <td>Brannon Miller</td>\n",
       "      <td>Diversity Job Fair</td>\n",
       "      <td>Exceeds</td>\n",
       "    </tr>\n",
       "  </tbody>\n",
       "</table>\n",
       "<p>5 rows × 21 columns</p>\n",
       "</div>"
      ],
      "text/plain": [
       "        Employee Name  Employee Number State     Zip        DOB   Age     Sex  \\\n",
       "4         Singh, Nan      1.307060e+09    MA  2330.0  5/19/1988  29.0  Female   \n",
       "84   Carey, Michael       1.311063e+09    MA  1701.0   2/2/1983  34.0    Male   \n",
       "132      Jung, Judy       1.107027e+09    MA  2446.0  4/17/1986  31.0  Female   \n",
       "157      O'hare, Lynn     1.206045e+09    MA  2152.0  9/30/1980  37.0  Female   \n",
       "118    Gonzalez, Cayo     1.411071e+09    MA  2108.0  9/29/1969  48.0    Male   \n",
       "\n",
       "    MaritalDesc CitizenDesc Hispanic/Latino            ...             \\\n",
       "4        Single  US Citizen              No            ...              \n",
       "84      widowed  US Citizen              No            ...              \n",
       "132     Married  US Citizen              No            ...              \n",
       "157     widowed  US Citizen              No            ...              \n",
       "118    Divorced  US Citizen              No            ...              \n",
       "\n",
       "    Date of Hire Date of Termination       Reason For Term  \\\n",
       "4       5/1/2015                 NaN  N/A - still employed   \n",
       "84     3/31/2014                 NaN  N/A - still employed   \n",
       "132    1/10/2011            4/1/2016               unhappy   \n",
       "157    3/31/2014            5/1/2016           performance   \n",
       "118    7/11/2011                 NaN  N/A - still employed   \n",
       "\n",
       "          Employment Status         Department                  Position  \\\n",
       "4                    Active      Admin Offices  Administrative Assistant   \n",
       "84                   Active  Production          Production Technician I   \n",
       "132  Voluntarily Terminated  Production          Production Technician I   \n",
       "157    Terminated for Cause  Production          Production Technician I   \n",
       "118                  Active  Production          Production Technician I   \n",
       "\n",
       "    Pay Rate        Manager Name       Employee Source  \\\n",
       "4      16.56  Brandon R. LeBlanc    Website Banner Ads   \n",
       "84     20.00       Kelley Spirea              MBTA ads   \n",
       "132    21.00        Elijiah Gray           Monster.com   \n",
       "157    18.50      Kissy Sullivan  Professional Society   \n",
       "118    16.00      Brannon Miller    Diversity Job Fair   \n",
       "\n",
       "            Performance Score  \n",
       "4    N/A- too early to review  \n",
       "84                Fully Meets  \n",
       "132              90-day meets  \n",
       "157                       PIP  \n",
       "118                   Exceeds  \n",
       "\n",
       "[5 rows x 21 columns]"
      ]
     },
     "execution_count": 420,
     "metadata": {},
     "output_type": "execute_result"
    }
   ],
   "source": [
    "data.sample(5)"
   ]
  },
  {
   "cell_type": "markdown",
   "metadata": {},
   "source": [
    "#### Let's explore some categorical variables:"
   ]
  },
  {
   "cell_type": "code",
   "execution_count": 408,
   "metadata": {},
   "outputs": [
    {
     "name": "stdout",
     "output_type": "stream",
     "text": [
      "Marital status categories: \n",
      "Single       127\n",
      "Married      119\n",
      "Divorced      30\n",
      "Separated     14\n",
      "widowed       11\n",
      "Name: MaritalDesc, dtype: int64\n",
      "\n",
      "Race status categories: \n",
      "White                               190\n",
      "Black or African American            54\n",
      "Asian                                31\n",
      "Two or more races                    18\n",
      "Hispanic                              4\n",
      "American Indian or Alaska Native      4\n",
      "Name: RaceDesc, dtype: int64\n",
      "\n",
      "Reason for termination categories: \n",
      "N/A - still employed                188\n",
      "Another position                     20\n",
      "unhappy                              14\n",
      "N/A - Has not started yet            11\n",
      "more money                           11\n",
      "career change                         9\n",
      "hours                                 9\n",
      "attendance                            7\n",
      "return to school                      5\n",
      "relocation out of area                5\n",
      "military                              4\n",
      "performance                           4\n",
      "retiring                              4\n",
      "maternity leave - did not return      3\n",
      "no-call, no-show                      3\n",
      "medical issues                        3\n",
      "gross misconduct                      1\n",
      "Name: Reason For Term, dtype: int64\n",
      "\n",
      "Employment status categories: \n",
      "Active                    174\n",
      "Voluntarily Terminated     88\n",
      "Terminated for Cause       14\n",
      "Leave of Absence           14\n",
      "Future Start               11\n",
      "Name: Employment Status, dtype: int64\n",
      "\n",
      "Performance score status: \n",
      "Fully Meets                 172\n",
      "N/A- too early to review     37\n",
      "90-day meets                 31\n",
      "Exceeds                      28\n",
      "Needs Improvement            15\n",
      "PIP                           9\n",
      "Exceptional                   9\n",
      "Name: Performance Score, dtype: int64\n"
     ]
    }
   ],
   "source": [
    "print(\"Marital status categories: \\n\" + str(data.MaritalDesc.value_counts()))\n",
    "print(\"\\nRace status categories: \\n\" + str(data.RaceDesc.value_counts()))\n",
    "print(\"\\nReason for termination categories: \\n\" + str(data['Reason For Term'].value_counts()))\n",
    "print(\"\\nEmployment status categories: \\n\" + str(data['Employment Status'].value_counts()))\n",
    "print(\"\\nPerformance score status: \\n\" + str(data['Performance Score'].value_counts()))"
   ]
  },
  {
   "cell_type": "markdown",
   "metadata": {},
   "source": [
    "#### Drop employees who have not started yet and employees whose performance haven't been reviewed from the data set."
   ]
  },
  {
   "cell_type": "code",
   "execution_count": 409,
   "metadata": {},
   "outputs": [
    {
     "name": "stdout",
     "output_type": "stream",
     "text": [
      "\n",
      "Employment status categories: \n",
      "Active                    174\n",
      "Voluntarily Terminated     88\n",
      "Terminated for Cause       14\n",
      "Leave of Absence           14\n",
      "Name: Employment Status, dtype: int64\n",
      "\n",
      "Performance score status: \n",
      "Fully Meets          172\n",
      "90-day meets          31\n",
      "Exceeds               26\n",
      "Needs Improvement     15\n",
      "Exceptional            9\n",
      "PIP                    9\n",
      "Name: Performance Score, dtype: int64\n"
     ]
    }
   ],
   "source": [
    "data = data[data['Employment Status'] != \"Future Start\"]\n",
    "print(\"\\nEmployment status categories: \\n\" + str(data['Employment Status'].value_counts()))\n",
    "data = data[data['Performance Score'] != \"N/A- too early to review\"]\n",
    "print(\"\\nPerformance score status: \\n\" + str(data['Performance Score'].value_counts()))"
   ]
  },
  {
   "cell_type": "markdown",
   "metadata": {},
   "source": [
    "#### Further cleaning..."
   ]
  },
  {
   "cell_type": "code",
   "execution_count": 410,
   "metadata": {},
   "outputs": [],
   "source": [
    "data.loc[data['Sex'] == \"male\", 'Sex'] = \"Male\""
   ]
  },
  {
   "cell_type": "markdown",
   "metadata": {},
   "source": [
    "## 2. Explore the data set"
   ]
  },
  {
   "cell_type": "markdown",
   "metadata": {},
   "source": [
    "#### Sex vs Performance Score"
   ]
  },
  {
   "cell_type": "code",
   "execution_count": 411,
   "metadata": {},
   "outputs": [
    {
     "data": {
      "image/png": "[encoded data removed]",
      "text/plain": [
       "<matplotlib.figure.Figure at 0x1a18f35240>"
      ]
     },
     "metadata": {},
     "output_type": "display_data"
    }
   ],
   "source": [
    "plt.figure(figsize=(10, 5))\n",
    "sns.countplot(x='Performance Score', hue='Sex', data=data)\n",
    "plt.show()"
   ]
  },
  {
   "cell_type": "markdown",
   "metadata": {},
   "source": [
    "Males generally have poorer performance scores - is this just bad luck or is it a pattern...?"
   ]
  },
  {
   "cell_type": "markdown",
   "metadata": {},
   "source": [
    "![surprised](https://media.giphy.com/media/XfT1Xb2O2ShHy/giphy.gif \"surprised\")"
   ]
  },
  {
   "cell_type": "markdown",
   "metadata": {},
   "source": [
    "#### Age vs Pay rate"
   ]
  },
  {
   "cell_type": "code",
   "execution_count": 412,
   "metadata": {},
   "outputs": [
    {
     "data": {
      "text/plain": [
       "<matplotlib.figure.Figure at 0x1a191216d8>"
      ]
     },
     "metadata": {},
     "output_type": "display_data"
    },
    {
     "data": {
      "image/png": "[encoded data removed]",
      "text/plain": [
       "<matplotlib.figure.Figure at 0x1a191cdbe0>"
      ]
     },
     "metadata": {},
     "output_type": "display_data"
    }
   ],
   "source": [
    "plt.figure(figsize=(10, 5))\n",
    "sns.jointplot(x='Age',y='Pay Rate',data=data)\n",
    "plt.show()"
   ]
  },
  {
   "cell_type": "markdown",
   "metadata": {},
   "source": [
    "No clear relationship between Age and Pay Rate exists - working for longer years are 'pretty' futile."
   ]
  },
  {
   "cell_type": "markdown",
   "metadata": {},
   "source": [
    "![aging](https://media.giphy.com/media/Nt8Q1I8rlfzZS/giphy.gif \"aged\")"
   ]
  },
  {
   "cell_type": "markdown",
   "metadata": {},
   "source": [
    "#### Sex and Pay Rate"
   ]
  },
  {
   "cell_type": "code",
   "execution_count": 413,
   "metadata": {},
   "outputs": [
    {
     "data": {
      "image/png": "[encoded data removed]",
      "text/plain": [
       "<matplotlib.figure.Figure at 0x1a191fa3c8>"
      ]
     },
     "metadata": {},
     "output_type": "display_data"
    }
   ],
   "source": [
    "plt.figure(figsize=(10, 5))\n",
    "sns.distplot(data[data['Sex'] == \"Male\"]['Pay Rate'], label='Male')\n",
    "sns.distplot(data[data['Sex'] == \"Female\"]['Pay Rate'], label='Female')\n",
    "plt.legend()\n",
    "plt.show()"
   ]
  },
  {
   "cell_type": "markdown",
   "metadata": {},
   "source": [
    "Females have higher pay rates comparing to men when they are younger, but lower pay rates when they get older."
   ]
  },
  {
   "cell_type": "markdown",
   "metadata": {},
   "source": [
    "![WOW](https://media.giphy.com/media/2cizFyS72nkQg/giphy.gif \"wow\")"
   ]
  },
  {
   "cell_type": "markdown",
   "metadata": {},
   "source": [
    "## 3. Build Models"
   ]
  },
  {
   "cell_type": "markdown",
   "metadata": {},
   "source": [
    "Some data processing..."
   ]
  },
  {
   "cell_type": "code",
   "execution_count": 414,
   "metadata": {},
   "outputs": [
    {
     "name": "stdout",
     "output_type": "stream",
     "text": [
      "<class 'pandas.core.frame.DataFrame'>\n",
      "Int64Index: 263 entries, 0 to 301\n",
      "Data columns (total 33 columns):\n",
      "Employee Name                          262 non-null object\n",
      "Employee Number                        262 non-null float64\n",
      "State                                  262 non-null object\n",
      "Zip                                    262 non-null float64\n",
      "DOB                                    262 non-null object\n",
      "Age                                    262 non-null float64\n",
      "CitizenDesc                            262 non-null object\n",
      "Hispanic/Latino                        262 non-null object\n",
      "Date of Hire                           262 non-null object\n",
      "Date of Termination                    89 non-null object\n",
      "Reason For Term                        262 non-null object\n",
      "Employment Status                      262 non-null object\n",
      "Department                             262 non-null object\n",
      "Position                               262 non-null object\n",
      "Pay Rate                               262 non-null float64\n",
      "Manager Name                           262 non-null object\n",
      "Employee Source                        262 non-null object\n",
      "Sex_Male                               263 non-null uint8\n",
      "RaceDesc_Asian                         263 non-null uint8\n",
      "RaceDesc_Black or African American     263 non-null uint8\n",
      "RaceDesc_Hispanic                      263 non-null uint8\n",
      "RaceDesc_Two or more races             263 non-null uint8\n",
      "RaceDesc_White                         263 non-null uint8\n",
      "Performance Score_Exceeds              263 non-null uint8\n",
      "Performance Score_Exceptional          263 non-null uint8\n",
      "Performance Score_Fully Meets          263 non-null uint8\n",
      "Performance Score_Needs Improvement    263 non-null uint8\n",
      "Performance Score_PIP                  263 non-null uint8\n",
      "MaritalDesc_Married                    263 non-null uint8\n",
      "MaritalDesc_Separated                  263 non-null uint8\n",
      "MaritalDesc_Single                     263 non-null uint8\n",
      "MaritalDesc_widowed                    263 non-null uint8\n",
      "Employment                             263 non-null float64\n",
      "dtypes: float64(5), object(13), uint8(15)\n",
      "memory usage: 52.9+ KB\n",
      "None\n"
     ]
    },
    {
     "data": {
      "text/html": [
       "<div>\n",
       "<style>\n",
       "    .dataframe thead tr:only-child th {\n",
       "        text-align: right;\n",
       "    }\n",
       "\n",
       "    .dataframe thead th {\n",
       "        text-align: left;\n",
       "    }\n",
       "\n",
       "    .dataframe tbody tr th {\n",
       "        vertical-align: top;\n",
       "    }\n",
       "</style>\n",
       "<table border=\"1\" class=\"dataframe\">\n",
       "  <thead>\n",
       "    <tr style=\"text-align: right;\">\n",
       "      <th></th>\n",
       "      <th>Employee Name</th>\n",
       "      <th>Employee Number</th>\n",
       "      <th>State</th>\n",
       "      <th>Zip</th>\n",
       "      <th>DOB</th>\n",
       "      <th>Age</th>\n",
       "      <th>CitizenDesc</th>\n",
       "      <th>Hispanic/Latino</th>\n",
       "      <th>Date of Hire</th>\n",
       "      <th>Date of Termination</th>\n",
       "      <th>...</th>\n",
       "      <th>Performance Score_Exceeds</th>\n",
       "      <th>Performance Score_Exceptional</th>\n",
       "      <th>Performance Score_Fully Meets</th>\n",
       "      <th>Performance Score_Needs Improvement</th>\n",
       "      <th>Performance Score_PIP</th>\n",
       "      <th>MaritalDesc_Married</th>\n",
       "      <th>MaritalDesc_Separated</th>\n",
       "      <th>MaritalDesc_Single</th>\n",
       "      <th>MaritalDesc_widowed</th>\n",
       "      <th>Employment</th>\n",
       "    </tr>\n",
       "  </thead>\n",
       "  <tbody>\n",
       "    <tr>\n",
       "      <th>83</th>\n",
       "      <td>Bugali, Josephine</td>\n",
       "      <td>1.408070e+09</td>\n",
       "      <td>MA</td>\n",
       "      <td>2043.0</td>\n",
       "      <td>10/30/1969</td>\n",
       "      <td>48.0</td>\n",
       "      <td>US Citizen</td>\n",
       "      <td>No</td>\n",
       "      <td>11/11/2013</td>\n",
       "      <td>NaN</td>\n",
       "      <td>...</td>\n",
       "      <td>0</td>\n",
       "      <td>0</td>\n",
       "      <td>1</td>\n",
       "      <td>0</td>\n",
       "      <td>0</td>\n",
       "      <td>0</td>\n",
       "      <td>1</td>\n",
       "      <td>0</td>\n",
       "      <td>0</td>\n",
       "      <td>1.0</td>\n",
       "    </tr>\n",
       "    <tr>\n",
       "      <th>28</th>\n",
       "      <td>Monroe, Peter</td>\n",
       "      <td>1.011023e+09</td>\n",
       "      <td>MA</td>\n",
       "      <td>2134.0</td>\n",
       "      <td>10/5/1986</td>\n",
       "      <td>31.0</td>\n",
       "      <td>Eligible NonCitizen</td>\n",
       "      <td>Yes</td>\n",
       "      <td>2/15/2012</td>\n",
       "      <td>NaN</td>\n",
       "      <td>...</td>\n",
       "      <td>0</td>\n",
       "      <td>0</td>\n",
       "      <td>0</td>\n",
       "      <td>1</td>\n",
       "      <td>0</td>\n",
       "      <td>1</td>\n",
       "      <td>0</td>\n",
       "      <td>0</td>\n",
       "      <td>0</td>\n",
       "      <td>1.0</td>\n",
       "    </tr>\n",
       "    <tr>\n",
       "      <th>244</th>\n",
       "      <td>Oliver, Brooke</td>\n",
       "      <td>1.001857e+09</td>\n",
       "      <td>MA</td>\n",
       "      <td>2492.0</td>\n",
       "      <td>2/11/1952</td>\n",
       "      <td>65.0</td>\n",
       "      <td>US Citizen</td>\n",
       "      <td>No</td>\n",
       "      <td>5/14/2012</td>\n",
       "      <td>8/19/2013</td>\n",
       "      <td>...</td>\n",
       "      <td>0</td>\n",
       "      <td>0</td>\n",
       "      <td>0</td>\n",
       "      <td>0</td>\n",
       "      <td>0</td>\n",
       "      <td>1</td>\n",
       "      <td>0</td>\n",
       "      <td>0</td>\n",
       "      <td>0</td>\n",
       "      <td>0.0</td>\n",
       "    </tr>\n",
       "    <tr>\n",
       "      <th>128</th>\n",
       "      <td>Jackson, Maryellen</td>\n",
       "      <td>1.201031e+09</td>\n",
       "      <td>MA</td>\n",
       "      <td>2081.0</td>\n",
       "      <td>9/11/1972</td>\n",
       "      <td>45.0</td>\n",
       "      <td>US Citizen</td>\n",
       "      <td>No</td>\n",
       "      <td>11/5/2012</td>\n",
       "      <td>NaN</td>\n",
       "      <td>...</td>\n",
       "      <td>0</td>\n",
       "      <td>0</td>\n",
       "      <td>1</td>\n",
       "      <td>0</td>\n",
       "      <td>0</td>\n",
       "      <td>0</td>\n",
       "      <td>1</td>\n",
       "      <td>0</td>\n",
       "      <td>0</td>\n",
       "      <td>1.0</td>\n",
       "    </tr>\n",
       "    <tr>\n",
       "      <th>229</th>\n",
       "      <td>Johnston, Yen</td>\n",
       "      <td>1.306058e+09</td>\n",
       "      <td>MA</td>\n",
       "      <td>2128.0</td>\n",
       "      <td>9/8/1969</td>\n",
       "      <td>48.0</td>\n",
       "      <td>US Citizen</td>\n",
       "      <td>No</td>\n",
       "      <td>7/7/2014</td>\n",
       "      <td>NaN</td>\n",
       "      <td>...</td>\n",
       "      <td>0</td>\n",
       "      <td>1</td>\n",
       "      <td>0</td>\n",
       "      <td>0</td>\n",
       "      <td>0</td>\n",
       "      <td>0</td>\n",
       "      <td>0</td>\n",
       "      <td>1</td>\n",
       "      <td>0</td>\n",
       "      <td>1.0</td>\n",
       "    </tr>\n",
       "  </tbody>\n",
       "</table>\n",
       "<p>5 rows × 33 columns</p>\n",
       "</div>"
      ],
      "text/plain": [
       "          Employee Name  Employee Number State     Zip         DOB   Age  \\\n",
       "83   Bugali, Josephine      1.408070e+09    MA  2043.0  10/30/1969  48.0   \n",
       "28        Monroe, Peter     1.011023e+09    MA  2134.0   10/5/1986  31.0   \n",
       "244     Oliver, Brooke      1.001857e+09    MA  2492.0   2/11/1952  65.0   \n",
       "128  Jackson, Maryellen     1.201031e+09    MA  2081.0   9/11/1972  45.0   \n",
       "229       Johnston, Yen     1.306058e+09    MA  2128.0    9/8/1969  48.0   \n",
       "\n",
       "             CitizenDesc Hispanic/Latino Date of Hire Date of Termination  \\\n",
       "83            US Citizen              No   11/11/2013                 NaN   \n",
       "28   Eligible NonCitizen             Yes    2/15/2012                 NaN   \n",
       "244           US Citizen              No    5/14/2012           8/19/2013   \n",
       "128           US Citizen              No    11/5/2012                 NaN   \n",
       "229           US Citizen              No     7/7/2014                 NaN   \n",
       "\n",
       "        ...     Performance Score_Exceeds Performance Score_Exceptional  \\\n",
       "83      ...                             0                             0   \n",
       "28      ...                             0                             0   \n",
       "244     ...                             0                             0   \n",
       "128     ...                             0                             0   \n",
       "229     ...                             0                             1   \n",
       "\n",
       "    Performance Score_Fully Meets Performance Score_Needs Improvement  \\\n",
       "83                              1                                   0   \n",
       "28                              0                                   1   \n",
       "244                             0                                   0   \n",
       "128                             1                                   0   \n",
       "229                             0                                   0   \n",
       "\n",
       "     Performance Score_PIP MaritalDesc_Married MaritalDesc_Separated  \\\n",
       "83                       0                   0                     1   \n",
       "28                       0                   1                     0   \n",
       "244                      0                   1                     0   \n",
       "128                      0                   0                     1   \n",
       "229                      0                   0                     0   \n",
       "\n",
       "     MaritalDesc_Single  MaritalDesc_widowed  Employment  \n",
       "83                    0                    0         1.0  \n",
       "28                    0                    0         1.0  \n",
       "244                   0                    0         0.0  \n",
       "128                   0                    0         1.0  \n",
       "229                   1                    0         1.0  \n",
       "\n",
       "[5 rows x 33 columns]"
      ]
     },
     "execution_count": 414,
     "metadata": {},
     "output_type": "execute_result"
    }
   ],
   "source": [
    "data = pd.get_dummies(data, columns=['Sex'], drop_first=True)\n",
    "data = pd.get_dummies(data, columns=['RaceDesc'], drop_first=True)\n",
    "data = pd.get_dummies(data, columns=['Performance Score'], drop_first=True)\n",
    "data = pd.get_dummies(data, columns=['MaritalDesc'], drop_first=True)\n",
    "data.loc[data['Employment Status'] == \"Active\", 'Employment'] = 1\n",
    "data.loc[data['Employment Status'] != \"Active\", 'Employment'] = 0\n",
    "data.loc[data['Employment Status'] == \"Leave of Absence\", 'Employment'] = 1\n",
    "\n",
    "print(data.info())\n",
    "data.sample(5)"
   ]
  },
  {
   "cell_type": "markdown",
   "metadata": {},
   "source": [
    "#### Set values to X and y."
   ]
  },
  {
   "cell_type": "code",
   "execution_count": 415,
   "metadata": {},
   "outputs": [
    {
     "name": "stdout",
     "output_type": "stream",
     "text": [
      "0\n",
      "[1 1 0 0 0 0 0 0 0 0 0 0 0 0 0 0 0]\n"
     ]
    }
   ],
   "source": [
    "y = data.iloc[:, -1].values\n",
    "X = data.iloc[:, [5, 14, 17, 18, 19, 20, 21, 22, 23, 24, 25, 26, 27, 28, 29, 30, 31]].values\n",
    "\n",
    "print(sum(np.isnan(y)))\n",
    "print(sum(np.isnan(X)))"
   ]
  },
  {
   "cell_type": "markdown",
   "metadata": {},
   "source": [
    "#### X data has some missing values, which we will fill by using mean of repective column."
   ]
  },
  {
   "cell_type": "code",
   "execution_count": 357,
   "metadata": {},
   "outputs": [
    {
     "data": {
      "text/plain": [
       "array([0, 0, 0, 0, 0, 0, 0, 0, 0, 0, 0, 0, 0, 0, 0, 0, 0])"
      ]
     },
     "execution_count": 357,
     "metadata": {},
     "output_type": "execute_result"
    }
   ],
   "source": [
    "col_mean = np.nanmean(X, axis=0)\n",
    "inds = np.where(np.isnan(X))\n",
    "X[inds] = np.take(col_mean, inds[1])\n",
    "sum(np.isnan(X))"
   ]
  },
  {
   "cell_type": "markdown",
   "metadata": {},
   "source": [
    "#### Split data into testing and training sets."
   ]
  },
  {
   "cell_type": "code",
   "execution_count": 358,
   "metadata": {},
   "outputs": [],
   "source": [
    "from sklearn.model_selection import train_test_split\n",
    "\n",
    "X_train, X_test, y_train, y_test = train_test_split(X, y, test_size=0.25, random_state=101)"
   ]
  },
  {
   "cell_type": "markdown",
   "metadata": {},
   "source": [
    "### 3.1 Logistic Model"
   ]
  },
  {
   "cell_type": "code",
   "execution_count": 359,
   "metadata": {},
   "outputs": [],
   "source": [
    "from sklearn.linear_model import LogisticRegression"
   ]
  },
  {
   "cell_type": "code",
   "execution_count": 360,
   "metadata": {},
   "outputs": [
    {
     "data": {
      "text/plain": [
       "LogisticRegression(C=1.0, class_weight=None, dual=False, fit_intercept=True,\n",
       "          intercept_scaling=1, max_iter=100, multi_class='ovr', n_jobs=1,\n",
       "          penalty='l2', random_state=None, solver='liblinear', tol=0.0001,\n",
       "          verbose=0, warm_start=False)"
      ]
     },
     "execution_count": 360,
     "metadata": {},
     "output_type": "execute_result"
    }
   ],
   "source": [
    "logmodel = LogisticRegression()\n",
    "logmodel.fit(X_train,y_train)"
   ]
  },
  {
   "cell_type": "code",
   "execution_count": 361,
   "metadata": {
    "collapsed": true
   },
   "outputs": [],
   "source": [
    "predictions = logmodel.predict(X_test)"
   ]
  },
  {
   "cell_type": "code",
   "execution_count": 362,
   "metadata": {},
   "outputs": [
    {
     "name": "stdout",
     "output_type": "stream",
     "text": [
      "Accuracy:  0.636363636364\n"
     ]
    }
   ],
   "source": [
    "from sklearn.metrics import confusion_matrix, accuracy_score\n",
    "\n",
    "print('Accuracy: ', accuracy_score(y_test, predictions))"
   ]
  },
  {
   "cell_type": "code",
   "execution_count": 363,
   "metadata": {},
   "outputs": [
    {
     "data": {
      "text/plain": [
       "<matplotlib.axes._subplots.AxesSubplot at 0x1a192ca710>"
      ]
     },
     "execution_count": 363,
     "metadata": {},
     "output_type": "execute_result"
    },
    {
     "data": {
      "image/png": "[encoded data removed]",
      "text/plain": [
       "<matplotlib.figure.Figure at 0x1a192b8f98>"
      ]
     },
     "metadata": {},
     "output_type": "display_data"
    }
   ],
   "source": [
    "sns.heatmap(confusion_matrix(y_test, predictions), cmap=\"YlGnBu\", annot=True, fmt=\"d\")"
   ]
  },
  {
   "cell_type": "markdown",
   "metadata": {},
   "source": [
    "### 3.2 Random Forest Model"
   ]
  },
  {
   "cell_type": "code",
   "execution_count": 364,
   "metadata": {},
   "outputs": [
    {
     "data": {
      "text/plain": [
       "RandomForestClassifier(bootstrap=True, class_weight=None, criterion='gini',\n",
       "            max_depth=None, max_features='auto', max_leaf_nodes=None,\n",
       "            min_impurity_decrease=0.0, min_impurity_split=None,\n",
       "            min_samples_leaf=1, min_samples_split=2,\n",
       "            min_weight_fraction_leaf=0.0, n_estimators=10, n_jobs=1,\n",
       "            oob_score=False, random_state=None, verbose=0,\n",
       "            warm_start=False)"
      ]
     },
     "execution_count": 364,
     "metadata": {},
     "output_type": "execute_result"
    }
   ],
   "source": [
    "from sklearn.ensemble import RandomForestClassifier\n",
    "\n",
    "rfc = RandomForestClassifier()\n",
    "rfc.fit(X_train, y_train)"
   ]
  },
  {
   "cell_type": "code",
   "execution_count": 365,
   "metadata": {},
   "outputs": [
    {
     "name": "stdout",
     "output_type": "stream",
     "text": [
      "Accuracy score:  0.69696969697\n"
     ]
    }
   ],
   "source": [
    "predictions_rfc = rfc.predict(X_test)\n",
    "print(\"Accuracy score: \", accuracy_score(y_test, predictions_rfc))"
   ]
  },
  {
   "cell_type": "code",
   "execution_count": 366,
   "metadata": {},
   "outputs": [
    {
     "data": {
      "text/plain": [
       "<matplotlib.axes._subplots.AxesSubplot at 0x1a19242a90>"
      ]
     },
     "execution_count": 366,
     "metadata": {},
     "output_type": "execute_result"
    },
    {
     "data": {
      "image/png": "[encoded data removed]",
      "text/plain": [
       "<matplotlib.figure.Figure at 0x1a192dd048>"
      ]
     },
     "metadata": {},
     "output_type": "display_data"
    }
   ],
   "source": [
    "sns.heatmap(confusion_matrix(y_test, predictions_rfc), cmap=\"YlGnBu\", annot=True, fmt=\"d\")"
   ]
  },
  {
   "cell_type": "markdown",
   "metadata": {},
   "source": [
    "### 3.3 Decision Tree Model"
   ]
  },
  {
   "cell_type": "code",
   "execution_count": 367,
   "metadata": {},
   "outputs": [
    {
     "data": {
      "text/plain": [
       "DecisionTreeClassifier(class_weight=None, criterion='gini', max_depth=None,\n",
       "            max_features=None, max_leaf_nodes=None,\n",
       "            min_impurity_decrease=0.0, min_impurity_split=None,\n",
       "            min_samples_leaf=1, min_samples_split=2,\n",
       "            min_weight_fraction_leaf=0.0, presort=False, random_state=None,\n",
       "            splitter='best')"
      ]
     },
     "execution_count": 367,
     "metadata": {},
     "output_type": "execute_result"
    }
   ],
   "source": [
    "from sklearn.tree import DecisionTreeClassifier\n",
    "\n",
    "dtc = DecisionTreeClassifier()\n",
    "dtc.fit(X_train, y_train)"
   ]
  },
  {
   "cell_type": "code",
   "execution_count": 368,
   "metadata": {},
   "outputs": [
    {
     "name": "stdout",
     "output_type": "stream",
     "text": [
      "Accuracy score 0.681818181818\n"
     ]
    }
   ],
   "source": [
    "predictions_dtc = dtc.predict(X_test)\n",
    "print(\"Accuracy score \" + str(accuracy_score(y_test, predictions_dtc)))"
   ]
  },
  {
   "cell_type": "code",
   "execution_count": 373,
   "metadata": {},
   "outputs": [
    {
     "data": {
      "text/plain": [
       "<matplotlib.axes._subplots.AxesSubplot at 0x1a193ea470>"
      ]
     },
     "execution_count": 373,
     "metadata": {},
     "output_type": "execute_result"
    },
    {
     "data": {
      "image/png": "[encoded data removed]",
      "text/plain": [
       "<matplotlib.figure.Figure at 0x1a19652a90>"
      ]
     },
     "metadata": {},
     "output_type": "display_data"
    }
   ],
   "source": [
    "sns.heatmap(confusion_matrix(y_test, predictions_dtc), cmap=\"YlGnBu\", annot=True, fmt=\"d\")"
   ]
  },
  {
   "cell_type": "code",
   "execution_count": 370,
   "metadata": {},
   "outputs": [
    {
     "data": {
      "text/plain": [
       "<matplotlib.collections.PathCollection at 0x1a1957a828>"
      ]
     },
     "execution_count": 370,
     "metadata": {},
     "output_type": "execute_result"
    },
    {
     "data": {
      "image/png": "[encoded data removed]",
      "text/plain": [
       "<matplotlib.figure.Figure at 0x1a19439320>"
      ]
     },
     "metadata": {},
     "output_type": "display_data"
    }
   ],
   "source": [
    "n = [10,20,30,40,50,60,70,80,90,100]\n",
    "\n",
    "result = []\n",
    "\n",
    "for i in n:\n",
    "    clf = RandomForestClassifier(n_estimators=i)\n",
    "    clf.fit(X_train, y_train)\n",
    "    predictions = clf.predict(X_test)\n",
    "    result.append(accuracy_score(y_test, predictions))\n",
    "    \n",
    "plt.scatter(n, result)"
   ]
  },
  {
   "cell_type": "markdown",
   "metadata": {},
   "source": [
    "## 4. Conclusion"
   ]
  },
  {
   "cell_type": "markdown",
   "metadata": {},
   "source": [
    "None of the model really works fantastically - accuracy scores are around 60 - 70% for all 3 models, which are pretty OK for simple models with only 6 explanatory variables and around 200 observations. Random Forest model is the one that has the highest accuracy score, followed by Decision Tree and Logistic Model."
   ]
  },
  {
   "cell_type": "markdown",
   "metadata": {},
   "source": [
    "One way to increase accuracy scores is to include more explanatory variables into the model. However, caution should be taken as some additional variables may not be quite relevant to our dependent variable."
   ]
  },
  {
   "cell_type": "markdown",
   "metadata": {},
   "source": [
    "![OK](https://media.giphy.com/media/jedneOuAEkcgg/giphy.gif \"ok\")"
   ]
  }
 ],
 "metadata": {
  "kernelspec": {
   "display_name": "Python 3",
   "language": "python",
   "name": "python3"
  },
  "language_info": {
   "codemirror_mode": {
    "name": "ipython",
    "version": 3
   },
   "file_extension": ".py",
   "mimetype": "text/x-python",
   "name": "python",
   "nbconvert_exporter": "python",
   "pygments_lexer": "ipython3",
   "version": "3.6.3"
  }
 },
 "nbformat": 4,
 "nbformat_minor": 2
}
