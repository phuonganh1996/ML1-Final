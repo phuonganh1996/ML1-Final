{
 "cells": [
  {
   "cell_type": "markdown",
   "metadata": {},
   "source": [
    "# Some stay, but some never do..."
   ]
  },
  {
   "cell_type": "markdown",
   "metadata": {},
   "source": [
    "Every year, companies spend billions on employees - whether for salaries, training and development, and other financial/ non-financial profits; thus it makes for companies to be able to have a model that can predict who they should hire. The goal is to build a model that can identify certain traits of people who have a short tenure, and companies later on can use the model for recruitment or talent management purposes.\n",
    "\n",
    "The model is built using on HR data obtained on Kaggle. The explanatory variable will include Sex, Age, Pay Rate, Marital Status, Race, and Performance Score, as these traits can be observed rather easily and can have some effects of people's decisions to leave a firm."
   ]
  },
  {
   "cell_type": "markdown",
   "metadata": {},
   "source": [
    "![ByeUrl](https://media.giphy.com/media/6v4VaKAwgmLoA/giphy.gif \"bye\")"
   ]
  },
  {
   "cell_type": "markdown",
   "metadata": {},
   "source": [
    "## 1. Load Data"
   ]
  },
  {
   "cell_type": "code",
   "execution_count": 1,
   "metadata": {},
   "outputs": [],
   "source": [
    "import pandas as pd\n",
    "import numpy as np\n",
    "import matplotlib.pyplot as plt\n",
    "import seaborn as sns\n",
    "\n",
    "%matplotlib inline"
   ]
  },
  {
   "cell_type": "code",
   "execution_count": 2,
   "metadata": {},
   "outputs": [],
   "source": [
    "data = pd.read_csv('core_dataset.csv')"
   ]
  },
  {
   "cell_type": "markdown",
   "metadata": {},
   "source": [
    "#### Now gather some general information and take a sample of 5 datapoints to get an quick overview of data set."
   ]
  },
  {
   "cell_type": "code",
   "execution_count": 3,
   "metadata": {},
   "outputs": [
    {
     "name": "stdout",
     "output_type": "stream",
     "text": [
      "<class 'pandas.core.frame.DataFrame'>\n",
      "RangeIndex: 302 entries, 0 to 301\n",
      "Data columns (total 21 columns):\n",
      " #   Column               Non-Null Count  Dtype  \n",
      "---  ------               --------------  -----  \n",
      " 0   Employee Name        301 non-null    object \n",
      " 1   Employee Number      301 non-null    float64\n",
      " 2   State                301 non-null    object \n",
      " 3   Zip                  301 non-null    float64\n",
      " 4   DOB                  301 non-null    object \n",
      " 5   Age                  301 non-null    float64\n",
      " 6   Sex                  301 non-null    object \n",
      " 7   MaritalDesc          301 non-null    object \n",
      " 8   CitizenDesc          301 non-null    object \n",
      " 9   Hispanic/Latino      301 non-null    object \n",
      " 10  RaceDesc             301 non-null    object \n",
      " 11  Date of Hire         301 non-null    object \n",
      " 12  Date of Termination  103 non-null    object \n",
      " 13  Reason For Term      301 non-null    object \n",
      " 14  Employment Status    301 non-null    object \n",
      " 15  Department           301 non-null    object \n",
      " 16  Position             301 non-null    object \n",
      " 17  Pay Rate             301 non-null    float64\n",
      " 18  Manager Name         301 non-null    object \n",
      " 19  Employee Source      301 non-null    object \n",
      " 20  Performance Score    301 non-null    object \n",
      "dtypes: float64(4), object(17)\n",
      "memory usage: 49.7+ KB\n"
     ]
    }
   ],
   "source": [
    "data.info()"
   ]
  },
  {
   "cell_type": "code",
   "execution_count": 4,
   "metadata": {},
   "outputs": [
    {
     "data": {
      "text/html": [
       "<div>\n",
       "<style scoped>\n",
       "    .dataframe tbody tr th:only-of-type {\n",
       "        vertical-align: middle;\n",
       "    }\n",
       "\n",
       "    .dataframe tbody tr th {\n",
       "        vertical-align: top;\n",
       "    }\n",
       "\n",
       "    .dataframe thead th {\n",
       "        text-align: right;\n",
       "    }\n",
       "</style>\n",
       "<table border=\"1\" class=\"dataframe\">\n",
       "  <thead>\n",
       "    <tr style=\"text-align: right;\">\n",
       "      <th></th>\n",
       "      <th>Employee Name</th>\n",
       "      <th>Employee Number</th>\n",
       "      <th>State</th>\n",
       "      <th>Zip</th>\n",
       "      <th>DOB</th>\n",
       "      <th>Age</th>\n",
       "      <th>Sex</th>\n",
       "      <th>MaritalDesc</th>\n",
       "      <th>CitizenDesc</th>\n",
       "      <th>Hispanic/Latino</th>\n",
       "      <th>...</th>\n",
       "      <th>Date of Hire</th>\n",
       "      <th>Date of Termination</th>\n",
       "      <th>Reason For Term</th>\n",
       "      <th>Employment Status</th>\n",
       "      <th>Department</th>\n",
       "      <th>Position</th>\n",
       "      <th>Pay Rate</th>\n",
       "      <th>Manager Name</th>\n",
       "      <th>Employee Source</th>\n",
       "      <th>Performance Score</th>\n",
       "    </tr>\n",
       "  </thead>\n",
       "  <tbody>\n",
       "    <tr>\n",
       "      <th>280</th>\n",
       "      <td>Ozark, Travis</td>\n",
       "      <td>8.120118e+08</td>\n",
       "      <td>NC</td>\n",
       "      <td>27229.0</td>\n",
       "      <td>5/19/1982</td>\n",
       "      <td>35.0</td>\n",
       "      <td>Male</td>\n",
       "      <td>Single</td>\n",
       "      <td>US Citizen</td>\n",
       "      <td>No</td>\n",
       "      <td>...</td>\n",
       "      <td>1/5/2015</td>\n",
       "      <td>NaN</td>\n",
       "      <td>N/A - still employed</td>\n",
       "      <td>Active</td>\n",
       "      <td>Sales</td>\n",
       "      <td>Area Sales Manager</td>\n",
       "      <td>55.0</td>\n",
       "      <td>John Smith</td>\n",
       "      <td>Website Banner Ads</td>\n",
       "      <td>90-day meets</td>\n",
       "    </tr>\n",
       "    <tr>\n",
       "      <th>238</th>\n",
       "      <td>Miller, Ned</td>\n",
       "      <td>1.205033e+09</td>\n",
       "      <td>MA</td>\n",
       "      <td>2472.0</td>\n",
       "      <td>6/29/1985</td>\n",
       "      <td>32.0</td>\n",
       "      <td>Male</td>\n",
       "      <td>Single</td>\n",
       "      <td>US Citizen</td>\n",
       "      <td>No</td>\n",
       "      <td>...</td>\n",
       "      <td>8/15/2011</td>\n",
       "      <td>9/4/2014</td>\n",
       "      <td>unhappy</td>\n",
       "      <td>Voluntarily Terminated</td>\n",
       "      <td>Production</td>\n",
       "      <td>Production Technician II</td>\n",
       "      <td>25.0</td>\n",
       "      <td>Brannon Miller</td>\n",
       "      <td>MBTA ads</td>\n",
       "      <td>PIP</td>\n",
       "    </tr>\n",
       "    <tr>\n",
       "      <th>217</th>\n",
       "      <td>Fitzpatrick, Michael  J</td>\n",
       "      <td>1.109029e+09</td>\n",
       "      <td>MA</td>\n",
       "      <td>2143.0</td>\n",
       "      <td>10/1/1981</td>\n",
       "      <td>36.0</td>\n",
       "      <td>Male</td>\n",
       "      <td>Single</td>\n",
       "      <td>US Citizen</td>\n",
       "      <td>Yes</td>\n",
       "      <td>...</td>\n",
       "      <td>5/16/2011</td>\n",
       "      <td>6/24/2013</td>\n",
       "      <td>hours</td>\n",
       "      <td>Voluntarily Terminated</td>\n",
       "      <td>Production</td>\n",
       "      <td>Production Technician II</td>\n",
       "      <td>29.0</td>\n",
       "      <td>Amy Dunn</td>\n",
       "      <td>Social Networks - Facebook Twitter etc</td>\n",
       "      <td>Fully Meets</td>\n",
       "    </tr>\n",
       "    <tr>\n",
       "      <th>269</th>\n",
       "      <td>Givens, Myriam</td>\n",
       "      <td>1.203032e+09</td>\n",
       "      <td>IN</td>\n",
       "      <td>46204.0</td>\n",
       "      <td>9/22/1989</td>\n",
       "      <td>28.0</td>\n",
       "      <td>Female</td>\n",
       "      <td>Single</td>\n",
       "      <td>US Citizen</td>\n",
       "      <td>No</td>\n",
       "      <td>...</td>\n",
       "      <td>2/16/2015</td>\n",
       "      <td>NaN</td>\n",
       "      <td>N/A - still employed</td>\n",
       "      <td>Active</td>\n",
       "      <td>Sales</td>\n",
       "      <td>Area Sales Manager</td>\n",
       "      <td>55.0</td>\n",
       "      <td>Lynn Daneault</td>\n",
       "      <td>Pay Per Click - Google</td>\n",
       "      <td>90-day meets</td>\n",
       "    </tr>\n",
       "    <tr>\n",
       "      <th>109</th>\n",
       "      <td>Fidelia,  Libby</td>\n",
       "      <td>1.006020e+09</td>\n",
       "      <td>MA</td>\n",
       "      <td>2155.0</td>\n",
       "      <td>3/16/1981</td>\n",
       "      <td>36.0</td>\n",
       "      <td>Female</td>\n",
       "      <td>Married</td>\n",
       "      <td>US Citizen</td>\n",
       "      <td>No</td>\n",
       "      <td>...</td>\n",
       "      <td>1/9/2012</td>\n",
       "      <td>NaN</td>\n",
       "      <td>N/A - still employed</td>\n",
       "      <td>Active</td>\n",
       "      <td>Production</td>\n",
       "      <td>Production Technician I</td>\n",
       "      <td>24.0</td>\n",
       "      <td>Brannon Miller</td>\n",
       "      <td>Social Networks - Facebook Twitter etc</td>\n",
       "      <td>Fully Meets</td>\n",
       "    </tr>\n",
       "  </tbody>\n",
       "</table>\n",
       "<p>5 rows × 21 columns</p>\n",
       "</div>"
      ],
      "text/plain": [
       "               Employee Name  Employee Number State      Zip        DOB   Age  \\\n",
       "280            Ozark, Travis     8.120118e+08    NC  27229.0  5/19/1982  35.0   \n",
       "238              Miller, Ned     1.205033e+09    MA   2472.0  6/29/1985  32.0   \n",
       "217  Fitzpatrick, Michael  J     1.109029e+09    MA   2143.0  10/1/1981  36.0   \n",
       "269           Givens, Myriam     1.203032e+09    IN  46204.0  9/22/1989  28.0   \n",
       "109          Fidelia,  Libby     1.006020e+09    MA   2155.0  3/16/1981  36.0   \n",
       "\n",
       "        Sex MaritalDesc CitizenDesc Hispanic/Latino  ... Date of Hire  \\\n",
       "280    Male      Single  US Citizen              No  ...     1/5/2015   \n",
       "238    Male      Single  US Citizen              No  ...    8/15/2011   \n",
       "217    Male      Single  US Citizen             Yes  ...    5/16/2011   \n",
       "269  Female      Single  US Citizen              No  ...    2/16/2015   \n",
       "109  Female     Married  US Citizen              No  ...     1/9/2012   \n",
       "\n",
       "    Date of Termination       Reason For Term       Employment Status  \\\n",
       "280                 NaN  N/A - still employed                  Active   \n",
       "238            9/4/2014               unhappy  Voluntarily Terminated   \n",
       "217           6/24/2013                 hours  Voluntarily Terminated   \n",
       "269                 NaN  N/A - still employed                  Active   \n",
       "109                 NaN  N/A - still employed                  Active   \n",
       "\n",
       "            Department                  Position Pay Rate    Manager Name  \\\n",
       "280              Sales        Area Sales Manager     55.0      John Smith   \n",
       "238  Production         Production Technician II     25.0  Brannon Miller   \n",
       "217  Production         Production Technician II     29.0        Amy Dunn   \n",
       "269              Sales        Area Sales Manager     55.0   Lynn Daneault   \n",
       "109  Production          Production Technician I     24.0  Brannon Miller   \n",
       "\n",
       "                            Employee Source Performance Score  \n",
       "280                      Website Banner Ads      90-day meets  \n",
       "238                                MBTA ads               PIP  \n",
       "217  Social Networks - Facebook Twitter etc       Fully Meets  \n",
       "269                  Pay Per Click - Google      90-day meets  \n",
       "109  Social Networks - Facebook Twitter etc       Fully Meets  \n",
       "\n",
       "[5 rows x 21 columns]"
      ]
     },
     "execution_count": 4,
     "metadata": {},
     "output_type": "execute_result"
    }
   ],
   "source": [
    "data.sample(5)"
   ]
  },
  {
   "cell_type": "markdown",
   "metadata": {},
   "source": [
    "As you can see, there are a lot of variables in the dataset, some of which will either be transformed or deleted later when we build our model. For now, we will learn more about the data set to see if any pre-processed correction is necessary."
   ]
  },
  {
   "cell_type": "markdown",
   "metadata": {},
   "source": [
    "#### Let's review some categorical variables:"
   ]
  },
  {
   "cell_type": "code",
   "execution_count": 5,
   "metadata": {},
   "outputs": [
    {
     "name": "stdout",
     "output_type": "stream",
     "text": [
      "Sex: \n",
      "Female    174\n",
      "Male      126\n",
      "male        1\n",
      "Name: Sex, dtype: int64\n",
      "Marital status categories: \n",
      "Single       127\n",
      "Married      119\n",
      "Divorced      30\n",
      "Separated     14\n",
      "widowed       11\n",
      "Name: MaritalDesc, dtype: int64\n",
      "\n",
      "Race status categories: \n",
      "White                               190\n",
      "Black or African American            54\n",
      "Asian                                31\n",
      "Two or more races                    18\n",
      "American Indian or Alaska Native      4\n",
      "Hispanic                              4\n",
      "Name: RaceDesc, dtype: int64\n",
      "\n",
      "Reason for termination categories: \n",
      "N/A - still employed                188\n",
      "Another position                     20\n",
      "unhappy                              14\n",
      "N/A - Has not started yet            11\n",
      "more money                           11\n",
      "career change                         9\n",
      "hours                                 9\n",
      "attendance                            7\n",
      "relocation out of area                5\n",
      "return to school                      5\n",
      "retiring                              4\n",
      "military                              4\n",
      "performance                           4\n",
      "maternity leave - did not return      3\n",
      "no-call, no-show                      3\n",
      "medical issues                        3\n",
      "gross misconduct                      1\n",
      "Name: Reason For Term, dtype: int64\n",
      "\n",
      "Employment status categories: \n",
      "Active                    174\n",
      "Voluntarily Terminated     88\n",
      "Terminated for Cause       14\n",
      "Leave of Absence           14\n",
      "Future Start               11\n",
      "Name: Employment Status, dtype: int64\n",
      "\n",
      "Performance score status: \n",
      "Fully Meets                 172\n",
      "N/A- too early to review     37\n",
      "90-day meets                 31\n",
      "Exceeds                      28\n",
      "Needs Improvement            15\n",
      "PIP                           9\n",
      "Exceptional                   9\n",
      "Name: Performance Score, dtype: int64\n"
     ]
    }
   ],
   "source": [
    "print(\"Sex: \\n\" + str(data.Sex.value_counts()))\n",
    "print(\"Marital status categories: \\n\" + str(data.MaritalDesc.value_counts()))\n",
    "print(\"\\nRace status categories: \\n\" + str(data.RaceDesc.value_counts()))\n",
    "print(\"\\nReason for termination categories: \\n\" + str(data['Reason For Term'].value_counts()))\n",
    "print(\"\\nEmployment status categories: \\n\" + str(data['Employment Status'].value_counts()))\n",
    "print(\"\\nPerformance score status: \\n\" + str(data['Performance Score'].value_counts()))"
   ]
  },
  {
   "cell_type": "markdown",
   "metadata": {},
   "source": [
    "We are not very interested in employees who have yet to start and employees who have not had their performance evaluated, so we are dropping them from the data set."
   ]
  },
  {
   "cell_type": "markdown",
   "metadata": {},
   "source": [
    "#### Drop employees who have not started yet and employees whose performance haven't been reviewed."
   ]
  },
  {
   "cell_type": "code",
   "execution_count": 6,
   "metadata": {},
   "outputs": [
    {
     "name": "stdout",
     "output_type": "stream",
     "text": [
      "\n",
      "Employment status categories: \n",
      "Active                    174\n",
      "Voluntarily Terminated     88\n",
      "Terminated for Cause       14\n",
      "Leave of Absence           14\n",
      "Name: Employment Status, dtype: int64\n",
      "\n",
      "Performance score status: \n",
      "Fully Meets          172\n",
      "90-day meets          31\n",
      "Exceeds               26\n",
      "Needs Improvement     15\n",
      "PIP                    9\n",
      "Exceptional            9\n",
      "Name: Performance Score, dtype: int64\n"
     ]
    }
   ],
   "source": [
    "data = data[data['Employment Status'] != \"Future Start\"]\n",
    "print(\"\\nEmployment status categories: \\n\" + str(data['Employment Status'].value_counts()))\n",
    "data = data[data['Performance Score'] != \"N/A- too early to review\"]\n",
    "print(\"\\nPerformance score status: \\n\" + str(data['Performance Score'].value_counts()))"
   ]
  },
  {
   "cell_type": "markdown",
   "metadata": {},
   "source": [
    "There is one data point where \"Male\" was stored incorrectly as \"male\", so we will go ahead and clean that up."
   ]
  },
  {
   "cell_type": "markdown",
   "metadata": {},
   "source": [
    "#### Further cleaning..."
   ]
  },
  {
   "cell_type": "code",
   "execution_count": 7,
   "metadata": {},
   "outputs": [],
   "source": [
    "data.loc[data['Sex'] == \"male\", 'Sex'] = \"Male\""
   ]
  },
  {
   "cell_type": "markdown",
   "metadata": {},
   "source": [
    "## 2. Explore the data set"
   ]
  },
  {
   "cell_type": "markdown",
   "metadata": {},
   "source": [
    "Building models is fun, but so are exploring the data set and gaining some new insights. Who knows - we may leave this with bite-sized knowledge that can serve as conversation openers :)"
   ]
  },
  {
   "cell_type": "markdown",
   "metadata": {},
   "source": [
    "#### Sex vs Performance Score"
   ]
  },
  {
   "cell_type": "code",
   "execution_count": 8,
   "metadata": {},
   "outputs": [
    {
     "data": {
      "image/png": "[encoded data removed]",
      "text/plain": [
       "<Figure size 720x360 with 1 Axes>"
      ]
     },
     "metadata": {
      "needs_background": "light"
     },
     "output_type": "display_data"
    }
   ],
   "source": [
    "plt.figure(figsize=(10, 5))\n",
    "plt.ylabel('%')\n",
    "sns.countplot(x='Sex', hue='Performance Score', data=data, hue_order = ('Exceptional', 'Exceeds', 'Fully Meets', '90-day meets', 'Needs Improvement', 'PIP'))\n",
    "plt.show()"
   ]
  },
  {
   "cell_type": "markdown",
   "metadata": {},
   "source": [
    "There is no distinguishable difference between the performance score distributions of Male and Female employees - they both are mostly distributed at the Fully Meets evaluation - the distributions make sense in terms of performance evaluation and talent management."
   ]
  },
  {
   "cell_type": "markdown",
   "metadata": {},
   "source": [
    "![OK](https://media.giphy.com/media/kg6bayFcFEeYNklQY4/giphy.gif \"OK\")"
   ]
  },
  {
   "cell_type": "markdown",
   "metadata": {},
   "source": [
    "#### Age vs Pay rate"
   ]
  },
  {
   "cell_type": "code",
   "execution_count": 9,
   "metadata": {},
   "outputs": [
    {
     "data": {
      "text/plain": [
       "<Figure size 720x360 with 0 Axes>"
      ]
     },
     "metadata": {},
     "output_type": "display_data"
    },
    {
     "data": {
      "image/png": "[encoded data removed]",
      "text/plain": [
       "<Figure size 432x432 with 3 Axes>"
      ]
     },
     "metadata": {
      "needs_background": "light"
     },
     "output_type": "display_data"
    }
   ],
   "source": [
    "plt.figure(figsize=(10, 5))\n",
    "sns.jointplot(x='Age',y='Pay Rate',data=data)\n",
    "plt.show()"
   ]
  },
  {
   "cell_type": "markdown",
   "metadata": {},
   "source": [
    "No clear relationship between Age and Pay Rate exists. Age usually captures experience and/ or tenure (though not perfectly), and the graph could be intepreted as experience and/ or tenure do not impact pay as much as conventionally thought. Companies are probably switching to pay by other factors, such as results and competency.\n",
    "\n",
    "What's the point of not retiring early again??"
   ]
  },
  {
   "cell_type": "markdown",
   "metadata": {},
   "source": [
    "![aging](https://media.giphy.com/media/Nt8Q1I8rlfzZS/giphy.gif \"aged\")"
   ]
  },
  {
   "cell_type": "markdown",
   "metadata": {},
   "source": [
    "#### Sex and Pay Rate"
   ]
  },
  {
   "cell_type": "code",
   "execution_count": 10,
   "metadata": {},
   "outputs": [
    {
     "data": {
      "image/png": "[encoded data removed]",
      "text/plain": [
       "<Figure size 720x720 with 1 Axes>"
      ]
     },
     "metadata": {
      "needs_background": "light"
     },
     "output_type": "display_data"
    }
   ],
   "source": [
    "plt.figure(figsize=(10, 10))\n",
    "sns.distplot(data[data['Sex'] == \"Male\"]['Pay Rate'], label='Male')\n",
    "sns.distplot(data[data['Sex'] == \"Female\"]['Pay Rate'], label='Female')\n",
    "plt.legend()\n",
    "plt.show()"
   ]
  },
  {
   "cell_type": "markdown",
   "metadata": {},
   "source": [
    "Female employees seem to have higher pay rates than their male counterparts when they are around 18 - 35 years old, and see their pay rates lower than their male colleagues when they reach 35+.\n",
    "\n",
    "There really is no good answer to this trend particularly - one could perhaps suspect that females could only reach the middle management levels and stay there, while males could reach upper management levels and hence males' compensation rates are higher when they are older."
   ]
  },
  {
   "cell_type": "markdown",
   "metadata": {},
   "source": [
    "![WOW](https://media.giphy.com/media/2cizFyS72nkQg/giphy.gif \"wow\")"
   ]
  },
  {
   "cell_type": "markdown",
   "metadata": {},
   "source": [
    "## 3. Build Models"
   ]
  },
  {
   "cell_type": "markdown",
   "metadata": {},
   "source": [
    "Now we have reached the pièce de résistance - sorry for keeping you waiting, but good things always take some time..."
   ]
  },
  {
   "cell_type": "markdown",
   "metadata": {},
   "source": [
    "We will first need to transform our categorical variables so as to feed into the models."
   ]
  },
  {
   "cell_type": "markdown",
   "metadata": {},
   "source": [
    "#### Some data processing..."
   ]
  },
  {
   "cell_type": "code",
   "execution_count": 11,
   "metadata": {},
   "outputs": [
    {
     "name": "stdout",
     "output_type": "stream",
     "text": [
      "<class 'pandas.core.frame.DataFrame'>\n",
      "Int64Index: 263 entries, 0 to 301\n",
      "Data columns (total 33 columns):\n",
      " #   Column                               Non-Null Count  Dtype  \n",
      "---  ------                               --------------  -----  \n",
      " 0   Employee Name                        262 non-null    object \n",
      " 1   Employee Number                      262 non-null    float64\n",
      " 2   State                                262 non-null    object \n",
      " 3   Zip                                  262 non-null    float64\n",
      " 4   DOB                                  262 non-null    object \n",
      " 5   Age                                  262 non-null    float64\n",
      " 6   CitizenDesc                          262 non-null    object \n",
      " 7   Hispanic/Latino                      262 non-null    object \n",
      " 8   Date of Hire                         262 non-null    object \n",
      " 9   Date of Termination                  89 non-null     object \n",
      " 10  Reason For Term                      262 non-null    object \n",
      " 11  Employment Status                    262 non-null    object \n",
      " 12  Department                           262 non-null    object \n",
      " 13  Position                             262 non-null    object \n",
      " 14  Pay Rate                             262 non-null    float64\n",
      " 15  Manager Name                         262 non-null    object \n",
      " 16  Employee Source                      262 non-null    object \n",
      " 17  Sex_Male                             263 non-null    uint8  \n",
      " 18  RaceDesc_Asian                       263 non-null    uint8  \n",
      " 19  RaceDesc_Black or African American   263 non-null    uint8  \n",
      " 20  RaceDesc_Hispanic                    263 non-null    uint8  \n",
      " 21  RaceDesc_Two or more races           263 non-null    uint8  \n",
      " 22  RaceDesc_White                       263 non-null    uint8  \n",
      " 23  Performance Score_Exceeds            263 non-null    uint8  \n",
      " 24  Performance Score_Exceptional        263 non-null    uint8  \n",
      " 25  Performance Score_Fully Meets        263 non-null    uint8  \n",
      " 26  Performance Score_Needs Improvement  263 non-null    uint8  \n",
      " 27  Performance Score_PIP                263 non-null    uint8  \n",
      " 28  MaritalDesc_Married                  263 non-null    uint8  \n",
      " 29  MaritalDesc_Separated                263 non-null    uint8  \n",
      " 30  MaritalDesc_Single                   263 non-null    uint8  \n",
      " 31  MaritalDesc_widowed                  263 non-null    uint8  \n",
      " 32  Employment                           263 non-null    float64\n",
      "dtypes: float64(5), object(13), uint8(15)\n",
      "memory usage: 52.9+ KB\n",
      "None\n"
     ]
    },
    {
     "data": {
      "text/html": [
       "<div>\n",
       "<style scoped>\n",
       "    .dataframe tbody tr th:only-of-type {\n",
       "        vertical-align: middle;\n",
       "    }\n",
       "\n",
       "    .dataframe tbody tr th {\n",
       "        vertical-align: top;\n",
       "    }\n",
       "\n",
       "    .dataframe thead th {\n",
       "        text-align: right;\n",
       "    }\n",
       "</style>\n",
       "<table border=\"1\" class=\"dataframe\">\n",
       "  <thead>\n",
       "    <tr style=\"text-align: right;\">\n",
       "      <th></th>\n",
       "      <th>Employee Name</th>\n",
       "      <th>Employee Number</th>\n",
       "      <th>State</th>\n",
       "      <th>Zip</th>\n",
       "      <th>DOB</th>\n",
       "      <th>Age</th>\n",
       "      <th>CitizenDesc</th>\n",
       "      <th>Hispanic/Latino</th>\n",
       "      <th>Date of Hire</th>\n",
       "      <th>Date of Termination</th>\n",
       "      <th>...</th>\n",
       "      <th>Performance Score_Exceeds</th>\n",
       "      <th>Performance Score_Exceptional</th>\n",
       "      <th>Performance Score_Fully Meets</th>\n",
       "      <th>Performance Score_Needs Improvement</th>\n",
       "      <th>Performance Score_PIP</th>\n",
       "      <th>MaritalDesc_Married</th>\n",
       "      <th>MaritalDesc_Separated</th>\n",
       "      <th>MaritalDesc_Single</th>\n",
       "      <th>MaritalDesc_widowed</th>\n",
       "      <th>Employment</th>\n",
       "    </tr>\n",
       "  </thead>\n",
       "  <tbody>\n",
       "    <tr>\n",
       "      <th>162</th>\n",
       "      <td>Perry, Shakira</td>\n",
       "      <td>1.109029e+09</td>\n",
       "      <td>MA</td>\n",
       "      <td>2176.0</td>\n",
       "      <td>7/20/1986</td>\n",
       "      <td>31.0</td>\n",
       "      <td>US Citizen</td>\n",
       "      <td>No</td>\n",
       "      <td>5/16/2011</td>\n",
       "      <td>10/25/2015</td>\n",
       "      <td>...</td>\n",
       "      <td>0</td>\n",
       "      <td>0</td>\n",
       "      <td>1</td>\n",
       "      <td>0</td>\n",
       "      <td>0</td>\n",
       "      <td>0</td>\n",
       "      <td>0</td>\n",
       "      <td>1</td>\n",
       "      <td>0</td>\n",
       "      <td>0.0</td>\n",
       "    </tr>\n",
       "    <tr>\n",
       "      <th>284</th>\n",
       "      <td>Terry, Sharlene</td>\n",
       "      <td>1.401065e+09</td>\n",
       "      <td>OR</td>\n",
       "      <td>97756.0</td>\n",
       "      <td>5/7/1965</td>\n",
       "      <td>52.0</td>\n",
       "      <td>US Citizen</td>\n",
       "      <td>No</td>\n",
       "      <td>9/29/2014</td>\n",
       "      <td>NaN</td>\n",
       "      <td>...</td>\n",
       "      <td>0</td>\n",
       "      <td>0</td>\n",
       "      <td>1</td>\n",
       "      <td>0</td>\n",
       "      <td>0</td>\n",
       "      <td>0</td>\n",
       "      <td>0</td>\n",
       "      <td>1</td>\n",
       "      <td>0</td>\n",
       "      <td>1.0</td>\n",
       "    </tr>\n",
       "    <tr>\n",
       "      <th>262</th>\n",
       "      <td>Carter, Michelle</td>\n",
       "      <td>1.403066e+09</td>\n",
       "      <td>VT</td>\n",
       "      <td>5664.0</td>\n",
       "      <td>5/15/1963</td>\n",
       "      <td>54.0</td>\n",
       "      <td>US Citizen</td>\n",
       "      <td>No</td>\n",
       "      <td>8/18/2014</td>\n",
       "      <td>NaN</td>\n",
       "      <td>...</td>\n",
       "      <td>0</td>\n",
       "      <td>0</td>\n",
       "      <td>1</td>\n",
       "      <td>0</td>\n",
       "      <td>0</td>\n",
       "      <td>0</td>\n",
       "      <td>0</td>\n",
       "      <td>1</td>\n",
       "      <td>0</td>\n",
       "      <td>1.0</td>\n",
       "    </tr>\n",
       "    <tr>\n",
       "      <th>55</th>\n",
       "      <td>Butler, Webster  L</td>\n",
       "      <td>1.110030e+09</td>\n",
       "      <td>MA</td>\n",
       "      <td>2169.0</td>\n",
       "      <td>8/9/1983</td>\n",
       "      <td>34.0</td>\n",
       "      <td>US Citizen</td>\n",
       "      <td>No</td>\n",
       "      <td>1/28/2016</td>\n",
       "      <td>NaN</td>\n",
       "      <td>...</td>\n",
       "      <td>1</td>\n",
       "      <td>0</td>\n",
       "      <td>0</td>\n",
       "      <td>0</td>\n",
       "      <td>0</td>\n",
       "      <td>0</td>\n",
       "      <td>0</td>\n",
       "      <td>1</td>\n",
       "      <td>0</td>\n",
       "      <td>1.0</td>\n",
       "    </tr>\n",
       "    <tr>\n",
       "      <th>272</th>\n",
       "      <td>Jeremy Prater</td>\n",
       "      <td>1.001085e+09</td>\n",
       "      <td>NV</td>\n",
       "      <td>89139.0</td>\n",
       "      <td>5/9/1974</td>\n",
       "      <td>43.0</td>\n",
       "      <td>US Citizen</td>\n",
       "      <td>No</td>\n",
       "      <td>5/12/2014</td>\n",
       "      <td>NaN</td>\n",
       "      <td>...</td>\n",
       "      <td>0</td>\n",
       "      <td>0</td>\n",
       "      <td>0</td>\n",
       "      <td>0</td>\n",
       "      <td>1</td>\n",
       "      <td>1</td>\n",
       "      <td>0</td>\n",
       "      <td>0</td>\n",
       "      <td>0</td>\n",
       "      <td>1.0</td>\n",
       "    </tr>\n",
       "  </tbody>\n",
       "</table>\n",
       "<p>5 rows × 33 columns</p>\n",
       "</div>"
      ],
      "text/plain": [
       "          Employee Name  Employee Number State      Zip        DOB   Age  \\\n",
       "162      Perry, Shakira     1.109029e+09    MA   2176.0  7/20/1986  31.0   \n",
       "284    Terry, Sharlene      1.401065e+09    OR  97756.0   5/7/1965  52.0   \n",
       "262   Carter, Michelle      1.403066e+09    VT   5664.0  5/15/1963  54.0   \n",
       "55   Butler, Webster  L     1.110030e+09    MA   2169.0   8/9/1983  34.0   \n",
       "272       Jeremy Prater     1.001085e+09    NV  89139.0   5/9/1974  43.0   \n",
       "\n",
       "    CitizenDesc Hispanic/Latino Date of Hire Date of Termination  ...  \\\n",
       "162  US Citizen              No    5/16/2011          10/25/2015  ...   \n",
       "284  US Citizen              No    9/29/2014                 NaN  ...   \n",
       "262  US Citizen              No    8/18/2014                 NaN  ...   \n",
       "55   US Citizen              No    1/28/2016                 NaN  ...   \n",
       "272  US Citizen              No    5/12/2014                 NaN  ...   \n",
       "\n",
       "    Performance Score_Exceeds Performance Score_Exceptional  \\\n",
       "162                         0                             0   \n",
       "284                         0                             0   \n",
       "262                         0                             0   \n",
       "55                          1                             0   \n",
       "272                         0                             0   \n",
       "\n",
       "    Performance Score_Fully Meets Performance Score_Needs Improvement  \\\n",
       "162                             1                                   0   \n",
       "284                             1                                   0   \n",
       "262                             1                                   0   \n",
       "55                              0                                   0   \n",
       "272                             0                                   0   \n",
       "\n",
       "     Performance Score_PIP MaritalDesc_Married MaritalDesc_Separated  \\\n",
       "162                      0                   0                     0   \n",
       "284                      0                   0                     0   \n",
       "262                      0                   0                     0   \n",
       "55                       0                   0                     0   \n",
       "272                      1                   1                     0   \n",
       "\n",
       "     MaritalDesc_Single  MaritalDesc_widowed  Employment  \n",
       "162                   1                    0         0.0  \n",
       "284                   1                    0         1.0  \n",
       "262                   1                    0         1.0  \n",
       "55                    1                    0         1.0  \n",
       "272                   0                    0         1.0  \n",
       "\n",
       "[5 rows x 33 columns]"
      ]
     },
     "execution_count": 11,
     "metadata": {},
     "output_type": "execute_result"
    }
   ],
   "source": [
    "data = pd.get_dummies(data, columns=['Sex'], drop_first=True)\n",
    "data = pd.get_dummies(data, columns=['RaceDesc'], drop_first=True)\n",
    "data = pd.get_dummies(data, columns=['Performance Score'], drop_first=True)\n",
    "data = pd.get_dummies(data, columns=['MaritalDesc'], drop_first=True)\n",
    "data.loc[data['Employment Status'] == \"Active\", 'Employment'] = 1\n",
    "data.loc[data['Employment Status'] != \"Active\", 'Employment'] = 0\n",
    "data.loc[data['Employment Status'] == \"Leave of Absence\", 'Employment'] = 1\n",
    "\n",
    "print(data.info())\n",
    "data.sample(5)"
   ]
  },
  {
   "cell_type": "markdown",
   "metadata": {},
   "source": [
    "Then, we need to set appropriate values to our variables."
   ]
  },
  {
   "cell_type": "markdown",
   "metadata": {},
   "source": [
    "#### Set values to X and y."
   ]
  },
  {
   "cell_type": "code",
   "execution_count": 12,
   "metadata": {},
   "outputs": [
    {
     "name": "stdout",
     "output_type": "stream",
     "text": [
      "0\n",
      "[1 1 0 0 0 0 0 0 0 0 0 0 0 0 0 0 0]\n"
     ]
    }
   ],
   "source": [
    "y = data.iloc[:, -1].values\n",
    "X = data.iloc[:, [5, 14, 17, 18, 19, 20, 21, 22, 23, 24, 25, 26, 27, 28, 29, 30, 31]].values\n",
    "\n",
    "print(sum(np.isnan(y)))\n",
    "print(sum(np.isnan(X)))"
   ]
  },
  {
   "cell_type": "markdown",
   "metadata": {},
   "source": [
    "Our X data has some missing values, which we will fill by using mean of repective column. "
   ]
  },
  {
   "cell_type": "markdown",
   "metadata": {},
   "source": [
    "#### Set null values to mean of columns."
   ]
  },
  {
   "cell_type": "code",
   "execution_count": 13,
   "metadata": {},
   "outputs": [
    {
     "data": {
      "text/plain": [
       "array([0, 0, 0, 0, 0, 0, 0, 0, 0, 0, 0, 0, 0, 0, 0, 0, 0])"
      ]
     },
     "execution_count": 13,
     "metadata": {},
     "output_type": "execute_result"
    }
   ],
   "source": [
    "col_mean = np.nanmean(X, axis=0)\n",
    "inds = np.where(np.isnan(X))\n",
    "X[inds] = np.take(col_mean, inds[1])\n",
    "sum(np.isnan(X))"
   ]
  },
  {
   "cell_type": "markdown",
   "metadata": {},
   "source": [
    "For our last step before building models, we will split the data set into testing and training sets."
   ]
  },
  {
   "cell_type": "markdown",
   "metadata": {},
   "source": [
    "#### Split data into testing and training sets."
   ]
  },
  {
   "cell_type": "code",
   "execution_count": 14,
   "metadata": {},
   "outputs": [],
   "source": [
    "from sklearn.model_selection import train_test_split\n",
    "\n",
    "X_train, X_test, y_train, y_test = train_test_split(X, y, test_size=0.25, random_state=101)"
   ]
  },
  {
   "cell_type": "markdown",
   "metadata": {},
   "source": [
    "After processing and splitting our data set, it is time to deep-dive into several models to see which one we should recommend to the interested companies."
   ]
  },
  {
   "cell_type": "markdown",
   "metadata": {},
   "source": [
    "### 3.1 Logistic Model"
   ]
  },
  {
   "cell_type": "markdown",
   "metadata": {},
   "source": [
    "We will first explore logistic modelling. Logistic models work wonderfully when the dependent variable takes on binary values, which is the case here as employees either stay or have left."
   ]
  },
  {
   "cell_type": "markdown",
   "metadata": {},
   "source": [
    "#### Building the Logistic Model"
   ]
  },
  {
   "cell_type": "code",
   "execution_count": 15,
   "metadata": {},
   "outputs": [],
   "source": [
    "from sklearn.linear_model import LogisticRegression"
   ]
  },
  {
   "cell_type": "code",
   "execution_count": 16,
   "metadata": {},
   "outputs": [
    {
     "name": "stderr",
     "output_type": "stream",
     "text": [
      "/Users/bi/opt/anaconda3/lib/python3.8/site-packages/sklearn/linear_model/_logistic.py:762: ConvergenceWarning: lbfgs failed to converge (status=1):\n",
      "STOP: TOTAL NO. of ITERATIONS REACHED LIMIT.\n",
      "\n",
      "Increase the number of iterations (max_iter) or scale the data as shown in:\n",
      "    https://scikit-learn.org/stable/modules/preprocessing.html\n",
      "Please also refer to the documentation for alternative solver options:\n",
      "    https://scikit-learn.org/stable/modules/linear_model.html#logistic-regression\n",
      "  n_iter_i = _check_optimize_result(\n"
     ]
    },
    {
     "data": {
      "text/plain": [
       "LogisticRegression()"
      ]
     },
     "execution_count": 16,
     "metadata": {},
     "output_type": "execute_result"
    }
   ],
   "source": [
    "logmodel = LogisticRegression()\n",
    "logmodel.fit(X_train,y_train)"
   ]
  },
  {
   "cell_type": "code",
   "execution_count": 17,
   "metadata": {},
   "outputs": [],
   "source": [
    "predictions = logmodel.predict(X_test)"
   ]
  },
  {
   "cell_type": "markdown",
   "metadata": {},
   "source": [
    "After building the Logistic Model, we can proceed to assess how good this model is by seeing its Accuracy and Precision scores."
   ]
  },
  {
   "cell_type": "markdown",
   "metadata": {},
   "source": [
    "#### Accuracy and Precision scores of the Logistic Model"
   ]
  },
  {
   "cell_type": "code",
   "execution_count": 22,
   "metadata": {},
   "outputs": [
    {
     "name": "stdout",
     "output_type": "stream",
     "text": [
      "Accuracy:  0.6363636363636364\n",
      "Precision:  0.5834710743801653\n"
     ]
    }
   ],
   "source": [
    "from sklearn.metrics import confusion_matrix, accuracy_score, precision_score\n",
    "\n",
    "print('Accuracy: ', accuracy_score(y_test, predictions))\n",
    "print('Precision: ', precision_score(y_test, predictions, average='weighted'))"
   ]
  },
  {
   "cell_type": "markdown",
   "metadata": {},
   "source": [
    "The Accuracy and Precision scores are not wildly high, but the model has quite a good balance between the 2 metrics. We can keep this one in mind."
   ]
  },
  {
   "cell_type": "markdown",
   "metadata": {},
   "source": [
    "#### Heatmap"
   ]
  },
  {
   "cell_type": "code",
   "execution_count": 19,
   "metadata": {},
   "outputs": [
    {
     "data": {
      "text/plain": [
       "<matplotlib.axes._subplots.AxesSubplot at 0x11c70d280>"
      ]
     },
     "execution_count": 19,
     "metadata": {},
     "output_type": "execute_result"
    },
    {
     "data": {
      "image/png": "[encoded data removed]",
      "text/plain": [
       "<Figure size 432x288 with 2 Axes>"
      ]
     },
     "metadata": {
      "needs_background": "light"
     },
     "output_type": "display_data"
    }
   ],
   "source": [
    "sns.heatmap(confusion_matrix(y_test, predictions), cmap=\"YlGnBu\", annot=True, fmt=\"d\")"
   ]
  },
  {
   "cell_type": "markdown",
   "metadata": {},
   "source": [
    "### 3.2 Random Forest Model"
   ]
  },
  {
   "cell_type": "markdown",
   "metadata": {},
   "source": [
    "Random Forest is one of the most effective and versatile modelling techniques - so it makes sense to explore this option for our modelling task."
   ]
  },
  {
   "cell_type": "markdown",
   "metadata": {},
   "source": [
    "#### Building the Random Forest Model"
   ]
  },
  {
   "cell_type": "code",
   "execution_count": 23,
   "metadata": {},
   "outputs": [
    {
     "data": {
      "text/plain": [
       "RandomForestClassifier()"
      ]
     },
     "execution_count": 23,
     "metadata": {},
     "output_type": "execute_result"
    }
   ],
   "source": [
    "from sklearn.ensemble import RandomForestClassifier\n",
    "\n",
    "rfc = RandomForestClassifier()\n",
    "rfc.fit(X_train, y_train)"
   ]
  },
  {
   "cell_type": "markdown",
   "metadata": {},
   "source": [
    "As with the Logistic Model, we will assess the Accuracy and Precision scores of the Random Forest Model."
   ]
  },
  {
   "cell_type": "markdown",
   "metadata": {},
   "source": [
    "#### Accuracy and Precision scores of the Random Forest Model"
   ]
  },
  {
   "cell_type": "code",
   "execution_count": 25,
   "metadata": {},
   "outputs": [
    {
     "name": "stdout",
     "output_type": "stream",
     "text": [
      "Accuracy:  0.7272727272727273\n",
      "Precision:  0.7120617944147355\n"
     ]
    }
   ],
   "source": [
    "predictions_rfc = rfc.predict(X_test)\n",
    "print(\"Accuracy: \", accuracy_score(y_test, predictions_rfc))\n",
    "print(\"Precision: \", precision_score(y_test, predictions_rfc, average='weighted'))"
   ]
  },
  {
   "cell_type": "markdown",
   "metadata": {},
   "source": [
    "We see big improvement in both the Accuracy and Precision scores from those of the Logistic Model. If we have to choose between the two models, the Random Forest Model wins by all metrics."
   ]
  },
  {
   "cell_type": "markdown",
   "metadata": {},
   "source": [
    "#### Heatmap"
   ]
  },
  {
   "cell_type": "code",
   "execution_count": 26,
   "metadata": {},
   "outputs": [
    {
     "data": {
      "text/plain": [
       "<matplotlib.axes._subplots.AxesSubplot at 0x11ce59970>"
      ]
     },
     "execution_count": 26,
     "metadata": {},
     "output_type": "execute_result"
    },
    {
     "data": {
      "image/png": "[encoded data removed]",
      "text/plain": [
       "<Figure size 432x288 with 2 Axes>"
      ]
     },
     "metadata": {
      "needs_background": "light"
     },
     "output_type": "display_data"
    }
   ],
   "source": [
    "sns.heatmap(confusion_matrix(y_test, predictions_rfc), cmap=\"YlGnBu\", annot=True, fmt=\"d\")"
   ]
  },
  {
   "cell_type": "markdown",
   "metadata": {},
   "source": [
    "### 3.3 Decision Tree Model"
   ]
  },
  {
   "cell_type": "markdown",
   "metadata": {},
   "source": [
    "Decision Tree is another modelling technique that could be applicable to our modelling task, with a binary dependent variable."
   ]
  },
  {
   "cell_type": "markdown",
   "metadata": {},
   "source": [
    "#### Building the Decision Tree Model"
   ]
  },
  {
   "cell_type": "code",
   "execution_count": 27,
   "metadata": {},
   "outputs": [
    {
     "data": {
      "text/plain": [
       "DecisionTreeClassifier()"
      ]
     },
     "execution_count": 27,
     "metadata": {},
     "output_type": "execute_result"
    }
   ],
   "source": [
    "from sklearn.tree import DecisionTreeClassifier\n",
    "\n",
    "dtc = DecisionTreeClassifier()\n",
    "dtc.fit(X_train, y_train)"
   ]
  },
  {
   "cell_type": "markdown",
   "metadata": {},
   "source": [
    "Again, we are interested in the Accuracy and Precision scores of the model."
   ]
  },
  {
   "cell_type": "markdown",
   "metadata": {},
   "source": [
    "#### Accuracy and Precision scores of the Decision Tree Model"
   ]
  },
  {
   "cell_type": "code",
   "execution_count": 29,
   "metadata": {},
   "outputs": [
    {
     "name": "stdout",
     "output_type": "stream",
     "text": [
      "Accuracy:  0.6666666666666666\n",
      "Precision:  0.688237276710482\n"
     ]
    }
   ],
   "source": [
    "predictions_dtc = dtc.predict(X_test)\n",
    "print(\"Accuracy: \", accuracy_score(y_test, predictions_dtc))\n",
    "print(\"Precision: \", precision_score(y_test, predictions_dtc, average='weighted'))"
   ]
  },
  {
   "cell_type": "markdown",
   "metadata": {},
   "source": [
    "Both the Accuracy and Precision scores are not too different from those of the Random Forest Model."
   ]
  },
  {
   "cell_type": "markdown",
   "metadata": {},
   "source": [
    "#### Heatmap"
   ]
  },
  {
   "cell_type": "code",
   "execution_count": 30,
   "metadata": {},
   "outputs": [
    {
     "data": {
      "text/plain": [
       "<matplotlib.axes._subplots.AxesSubplot at 0x11c9b6160>"
      ]
     },
     "execution_count": 30,
     "metadata": {},
     "output_type": "execute_result"
    },
    {
     "data": {
      "image/png": "[encoded data removed]",
      "text/plain": [
       "<Figure size 432x288 with 2 Axes>"
      ]
     },
     "metadata": {
      "needs_background": "light"
     },
     "output_type": "display_data"
    }
   ],
   "source": [
    "sns.heatmap(confusion_matrix(y_test, predictions_dtc), cmap=\"YlGnBu\", annot=True, fmt=\"d\")"
   ]
  },
  {
   "cell_type": "code",
   "execution_count": 31,
   "metadata": {},
   "outputs": [
    {
     "data": {
      "text/plain": [
       "<matplotlib.collections.PathCollection at 0x11ce40dc0>"
      ]
     },
     "execution_count": 31,
     "metadata": {},
     "output_type": "execute_result"
    },
    {
     "data": {
      "image/png": "[encoded data removed]",
      "text/plain": [
       "<Figure size 432x288 with 1 Axes>"
      ]
     },
     "metadata": {
      "needs_background": "light"
     },
     "output_type": "display_data"
    }
   ],
   "source": [
    "n = [10,20,30,40,50,60,70,80,90,100]\n",
    "\n",
    "result = []\n",
    "\n",
    "for i in n:\n",
    "    clf = RandomForestClassifier(n_estimators=i)\n",
    "    clf.fit(X_train, y_train)\n",
    "    predictions = clf.predict(X_test)\n",
    "    result.append(accuracy_score(y_test, predictions))\n",
    "    \n",
    "plt.scatter(n, result)"
   ]
  },
  {
   "cell_type": "markdown",
   "metadata": {},
   "source": [
    "## 4. Conclusion"
   ]
  },
  {
   "cell_type": "markdown",
   "metadata": {},
   "source": [
    "Both Random Forest and Decision Tree models produce fantastic metrics for our model assessment task, and thus we can recommend these two to companies who would like to predict whether a prospective or existing employee will leave the company soon or not."
   ]
  },
  {
   "cell_type": "markdown",
   "metadata": {},
   "source": [
    "Moving forward, I would like to perhaps introduce some other variables not yet present here, such as relative positions within the firm (e.g. entry level, junior management, etc.) or departments (e.g. marketing, HR, sales, etc.) to make the models even more robust, accurate, and precise."
   ]
  },
  {
   "cell_type": "markdown",
   "metadata": {},
   "source": [
    "![WOOHOO](https://media.giphy.com/media/L0O3TQpp0WnSXmxV8p/giphy.gif \"woohoo\")"
   ]
  }
 ],
 "metadata": {
  "kernelspec": {
   "display_name": "Python 3",
   "language": "python",
   "name": "python3"
  },
  "language_info": {
   "codemirror_mode": {
    "name": "ipython",
    "version": 3
   },
   "file_extension": ".py",
   "mimetype": "text/x-python",
   "name": "python",
   "nbconvert_exporter": "python",
   "pygments_lexer": "ipython3",
   "version": "3.8.3"
  }
 },
 "nbformat": 4,
 "nbformat_minor": 2
}
